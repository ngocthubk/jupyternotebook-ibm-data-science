{
 "cells": [
  {
   "cell_type": "markdown",
   "id": "e575c1af-4775-4dfb-90b5-52a24817a561",
   "metadata": {},
   "source": [
    "# Data Science Tools and Ecosystem"
   ]
  },
  {
   "cell_type": "markdown",
   "id": "be8f2960-575c-4ebc-93d6-0138c81d37a4",
   "metadata": {},
   "source": [
    "In this notebook, Data Science Tools and Ecosystem are summarized."
   ]
  },
  {
   "cell_type": "markdown",
   "id": "54870db4-6066-47e7-8dd0-2e25f5e5da2b",
   "metadata": {},
   "source": [
    "__Objective:__\n",
    "- Give commonly used languages and tools data scientists work with.\n",
    "- Summary of the list of popular libraries\n",
    "- Examples of expessions in Jupyter"
   ]
  },
  {
   "cell_type": "markdown",
   "id": "89edaeea-64d8-44c5-88b9-dd32a6c4df3f",
   "metadata": {},
   "source": [
    "Some of the popular languages that Data Scientists use are:\n",
    "1. Python\n",
    "2. R\n",
    "3. Java\n",
    "4. C++\n",
    "5. Skala\n",
    "6. Julia\n",
    "7. SQL"
   ]
  },
  {
   "cell_type": "markdown",
   "id": "84fe595e-a85d-46cb-aec6-19786c643dc3",
   "metadata": {},
   "source": [
    "Some of the commonly used libraries used by Data Scientists include:\n",
    "- gglot\n",
    "- caret\n",
    "- pandas\n",
    "- numpy\n",
    "- scicit-learn\n",
    "- Matplotlib\n",
    "- Seaborn"
   ]
  },
  {
   "cell_type": "markdown",
   "id": "e50628dc-ab69-42ad-8c94-0843a6ebcccf",
   "metadata": {},
   "source": [
    "|Data science tools|\n",
    "|------------------|\n",
    "|Jupyter Notebook|\n",
    "|Jupyterlab|\n",
    "|RStudio|\n",
    "|Git|\n",
    "|Github|\n",
    "|Anaconda|\n",
    "|Apache Airflow|\n",
    "|Apache Kafka|\n",
    "|Cognos Analytics|\n",
    "|Tableau|\n",
    "|PowerBI|\n"
   ]
  },
  {
   "cell_type": "markdown",
   "id": "716f32a9-32e8-4cd1-9e2b-9a9f0a206466",
   "metadata": {},
   "source": [
    "Below are a few examples of evaluating arithmetic expressions in Python"
   ]
  },
  {
   "cell_type": "code",
   "execution_count": 3,
   "id": "71622269-ccaf-4883-8490-827ad3ba1bbf",
   "metadata": {},
   "outputs": [
    {
     "data": {
      "text/plain": [
       "9"
      ]
     },
     "execution_count": 3,
     "metadata": {},
     "output_type": "execute_result"
    }
   ],
   "source": [
    "2+7"
   ]
  },
  {
   "cell_type": "code",
   "execution_count": 2,
   "id": "9d5a8cfa-5208-4637-a085-518d7cd22801",
   "metadata": {},
   "outputs": [
    {
     "data": {
      "text/plain": [
       "48"
      ]
     },
     "execution_count": 2,
     "metadata": {},
     "output_type": "execute_result"
    }
   ],
   "source": [
    "3*16"
   ]
  },
  {
   "cell_type": "code",
   "execution_count": 1,
   "id": "fb50fd60-9c59-4d4c-abee-ccf5ac0a1790",
   "metadata": {},
   "outputs": [
    {
     "data": {
      "text/plain": [
       "26"
      ]
     },
     "execution_count": 1,
     "metadata": {},
     "output_type": "execute_result"
    }
   ],
   "source": [
    "30-4"
   ]
  },
  {
   "cell_type": "code",
   "execution_count": 4,
   "id": "28001ed4-2072-43a6-b796-f5f2e32e8ef2",
   "metadata": {},
   "outputs": [
    {
     "data": {
      "text/plain": [
       "17"
      ]
     },
     "execution_count": 4,
     "metadata": {},
     "output_type": "execute_result"
    }
   ],
   "source": [
    "(3*4)+5 # This a simple arithmetic expression to mutiply then add integers"
   ]
  },
  {
   "cell_type": "code",
   "execution_count": 6,
   "id": "5027e81f-5548-4a43-a92b-953d4a5fd322",
   "metadata": {},
   "outputs": [
    {
     "name": "stdout",
     "output_type": "stream",
     "text": [
      "3:20\n"
     ]
    }
   ],
   "source": [
    "#This will convert 200 minutes to hours by diving by 60\n",
    "hours=200//60 \n",
    "minutes=200%60\n",
    "time_string = \"{}:{}\".format(hours, minutes)\n",
    "print(time_string)"
   ]
  },
  {
   "cell_type": "markdown",
   "id": "a980623a-5c31-45ed-82f3-5baa1f380595",
   "metadata": {},
   "source": [
    "## Author\n",
    "Thi Ngoc Thu Nguyen"
   ]
  },
  {
   "cell_type": "code",
   "execution_count": null,
   "id": "62bb2448-e5ce-4ee8-b118-942918cdfc1a",
   "metadata": {},
   "outputs": [],
   "source": []
  },
  {
   "cell_type": "code",
   "execution_count": null,
   "id": "eb8a0c11-6d67-43f1-9606-4dbc98d1ef26",
   "metadata": {},
   "outputs": [],
   "source": []
  }
 ],
 "metadata": {
  "kernelspec": {
   "display_name": "Python 3 (ipykernel)",
   "language": "python",
   "name": "python3"
  },
  "language_info": {
   "codemirror_mode": {
    "name": "ipython",
    "version": 3
   },
   "file_extension": ".py",
   "mimetype": "text/x-python",
   "name": "python",
   "nbconvert_exporter": "python",
   "pygments_lexer": "ipython3",
   "version": "3.11.7"
  }
 },
 "nbformat": 4,
 "nbformat_minor": 5
}
